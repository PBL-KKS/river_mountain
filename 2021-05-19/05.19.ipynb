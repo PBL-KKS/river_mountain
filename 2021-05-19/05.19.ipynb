{
 "cells": [
  {
   "cell_type": "code",
   "execution_count": 161,
   "metadata": {},
   "outputs": [],
   "source": [
    "# 행렬의 덧셈\n",
    "# https://programmers.co.kr/learn/courses/30/lessons/12950?language=python3\n",
    "# 첫 시도. 그러나 정확성 검토에서 딱 한 경우에 시간 초과가 나와 실패\n",
    "\n",
    "def solution1(arr1, arr2): # arr1, arr2에서 각 행과 각 열에 대해 하나씩 더하고 하나의 list로 출력\n",
    "    return [sum([arr1[i][j]+arr2[i][j]]) for i in range(len(arr1)) for j in range(len(arr1[0]))]\n",
    "def solution2(answer1): return [answer1[len(arr1[0])*k:len(arr1[0])*(k+1)] for k in range(len(arr1))] # solution1의 list를 원래 크기로 쪼개기\n",
    "\n",
    "# 위 두 함수를 하나로 합친 함수\n",
    "def solution(arr1, arr2): return [[sum([arr1[i][j]+arr2[i][j]]) for i in range(len(arr1)) for j in range(len(arr1[0]))][len(arr1[0])*k:len(arr1[0])*(k+1)] for k in range(len(arr1))]"
   ]
  },
  {
   "cell_type": "code",
   "execution_count": 216,
   "metadata": {},
   "outputs": [],
   "source": [
    "# 두번째 시도. 그러나 마찬가지로 정확성 검토에서 딱 한 경우에 시간 초과가 나와 실패\n",
    "\n",
    "def solution(arr1, arr2): return [[sum([i,j]) for k in range(len(arr1)) for i,j in zip(arr1[k],arr2[k])][len(arr1[0])*k:len(arr1[0])*(k+1)] for k in range(len(arr1))]"
   ]
  },
  {
   "cell_type": "code",
   "execution_count": 218,
   "metadata": {},
   "outputs": [],
   "source": [
    "# 바로 다음에 성공한 시도. for k 문을 굳이 행렬의 각 성분을 더할때 추가할 필요가 없었다\n",
    "# for k 문을 밖으로 빼면 두 행렬의 각 행에 대한 성분을 각각 더하고 알아서 list 생성을 할 것이기 때문\n",
    "# 따라서 맨 뒤의 slicing 코드를 넣을 필요가 없었고 실행 결과 훨씬 빠르게 결과가 출력됨\n",
    "\n",
    "def solution(arr1, arr2): return [[sum([i,j]) for i,j in zip(arr1[k],arr2[k])] for k in range(len(arr1))]"
   ]
  }
 ],
 "metadata": {
  "kernelspec": {
   "display_name": "Python 3",
   "language": "python",
   "name": "python3"
  },
  "language_info": {
   "codemirror_mode": {
    "name": "ipython",
    "version": 3
   },
   "file_extension": ".py",
   "mimetype": "text/x-python",
   "name": "python",
   "nbconvert_exporter": "python",
   "pygments_lexer": "ipython3",
   "version": "3.8.5"
  }
 },
 "nbformat": 4,
 "nbformat_minor": 4
}
