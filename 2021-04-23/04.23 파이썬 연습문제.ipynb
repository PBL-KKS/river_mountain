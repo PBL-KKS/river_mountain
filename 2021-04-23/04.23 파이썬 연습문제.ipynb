{
 "cells": [
  {
   "cell_type": "code",
   "execution_count": 18,
   "metadata": {},
   "outputs": [
    {
     "name": "stdout",
     "output_type": "stream",
     "text": [
      "2\n",
      "3 ABC\n",
      "['3', 'ABC']\n",
      "AAABBBCCC5 HTTPS\n",
      "['5', 'HTTPS']\n",
      "HHHHHTTTTTTTTTTPPPPPSSSSS"
     ]
    }
   ],
   "source": [
    "# 문자열 반복하기\n",
    "# https://www.acmicpc.net/problem/2675\n",
    "\n",
    "T=int(input())\n",
    "for i in range(T):\n",
    "    sentence=input()\n",
    "    L=sentence.split()\n",
    "    R=int(L[0])\n",
    "    S=str(L[1])\n",
    "    for j in range(len(S)):\n",
    "        print(R*S[j], end='')\n",
    "    print()"
   ]
  },
  {
   "cell_type": "code",
   "execution_count": 78,
   "metadata": {},
   "outputs": [
    {
     "name": "stdout",
     "output_type": "stream",
     "text": [
      "baaa\n",
      "['B', 'A']\n",
      "[1, 3]\n",
      "A\n"
     ]
    }
   ],
   "source": [
    "# 가장 많이 사용된 알파벳 찾기\n",
    "# https://www.acmicpc.net/problem/1157\n",
    "\n",
    "S=input()\n",
    "A=[]\n",
    "B=[]\n",
    "for i in S:\n",
    "    i=i.upper()\n",
    "    if i not in A:\n",
    "        A.append(i)\n",
    "        B.append(1)\n",
    "    else:\n",
    "        B[A.index(i)]+=1\n",
    "        \n",
    "if len(A)==1 : print(A[0])\n",
    "elif sorted(B)[-1]==sorted(B)[-2]:print('?')\n",
    "else: print(A[B.index(max(B))])"
   ]
  },
  {
   "cell_type": "code",
   "execution_count": null,
   "metadata": {},
   "outputs": [],
   "source": [
    "# 상수의 대답 출력하기\n",
    "\n"
   ]
  }
 ],
 "metadata": {
  "kernelspec": {
   "display_name": "Python 3",
   "language": "python",
   "name": "python3"
  },
  "language_info": {
   "codemirror_mode": {
    "name": "ipython",
    "version": 3
   },
   "file_extension": ".py",
   "mimetype": "text/x-python",
   "name": "python",
   "nbconvert_exporter": "python",
   "pygments_lexer": "ipython3",
   "version": "3.8.5"
  }
 },
 "nbformat": 4,
 "nbformat_minor": 4
}
