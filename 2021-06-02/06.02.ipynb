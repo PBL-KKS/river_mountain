{
 "cells": [
  {
   "cell_type": "code",
   "execution_count": 53,
   "metadata": {},
   "outputs": [],
   "source": [
    "# 자연수 뒤집어 배열로 만들기\n",
    "# https://programmers.co.kr/learn/courses/30/lessons/12932\n",
    "def solution(n) : return [j for i,j in sorted([(v,int(w)) for v,w in enumerate(list(str(n)))],key=lambda x:x[0],reverse=True)]"
   ]
  },
  {
   "cell_type": "markdown",
   "metadata": {},
   "source": [
    "n을 문자열 형태로 바꾼 뒤 list로 만들고  \n",
    "enumerate 함수를 이용해 index와 글자 하나씩을 원소로 삼는 tuple을 원소로 하는 list 생성 후 index의 역순으로 정렬  \n",
    "그다음 list 내 tuple 원소의 첫번째 index만 가져와 list를 생성 "
   ]
  },
  {
   "cell_type": "code",
   "execution_count": 54,
   "metadata": {},
   "outputs": [],
   "source": [
    "# 정수 제곱근 판별\n",
    "# https://programmers.co.kr/learn/courses/30/lessons/12934\n",
    "def solution(n) : return (lambda x: (x**0.5+1)**2 if int(x**0.5)**2==n else -1)(n)"
   ]
  },
  {
   "cell_type": "markdown",
   "metadata": {},
   "source": [
    "n\\*\\*0.5가 n의 제곱근을 실수형으로 출력하는 것을 이용  \n",
    "int(n\\*\\*0.5)은 실수에서 강제로 정수부분만 가져온 것이므로 n이 진짜 제곱수면 제곱근을 했을 때 소수점 아래로 전부 0  \n",
    "n이 제곱수가 아니면 n\\*\\*0.5은 소수점 아래로 0이 아닌 값이 존재하는 무한소수이므로 실수에서 강제로 정수부분만 가져온 int(n\\*\\*0.5)과 차이가 생김  \n",
    "이제 int(n\\*\\*0.5)에 다시 제곱을 하면 n이 제곱수인지 아닌지에 따라 값의 차이가 확실히 생길 것\n",
    "<br/><br/>\n",
    "나중에 알고보니 실수와 정수값이 같으면 서로 같다고 인식하는 것을 깨달음  \n",
    "그래서 아래와 같이 써도 정답"
   ]
  },
  {
   "cell_type": "code",
   "execution_count": null,
   "metadata": {},
   "outputs": [],
   "source": [
    "def solution(n) : return (lambda x: (x**0.5+1)**2 if int(x**0.5)==n**0.5 else -1)(n)"
   ]
  }
 ],
 "metadata": {
  "kernelspec": {
   "display_name": "Python 3",
   "language": "python",
   "name": "python3"
  },
  "language_info": {
   "codemirror_mode": {
    "name": "ipython",
    "version": 3
   },
   "file_extension": ".py",
   "mimetype": "text/x-python",
   "name": "python",
   "nbconvert_exporter": "python",
   "pygments_lexer": "ipython3",
   "version": "3.8.5"
  }
 },
 "nbformat": 4,
 "nbformat_minor": 4
}
