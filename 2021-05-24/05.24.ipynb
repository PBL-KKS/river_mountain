{
 "cells": [
  {
   "cell_type": "code",
   "execution_count": 7,
   "metadata": {},
   "outputs": [],
   "source": [
    "# 문자열 다루기 기본\n",
    "# https://programmers.co.kr/learn/courses/30/lessons/12930?language=python3\n",
    "# 한번에 통과한 코드. 하지만 실수로 if가 아닌 if not을 썼는데 통과가 되어서 이상하다고 느꼈음\n",
    "def solution(s):\n",
    "    answer = False\n",
    "    try:\n",
    "        if not type(int(s))==int and (len(s)==4 or len(s)==6): answer = True\n",
    "        # 'int(s)의 type이 int이고 s의 길이가 4나 6'이 '아니다'는 \n",
    "        # 'int(s)의 type이 int가 아니다' 또는 's의 길이가 4가 아니고 6이 아니다'와 동일\n",
    "        # 즉 int(s)가 정수이고 len(s)가 1,2,3,5,7,8이면 true라는 것인데 통과한 것이 이해불능\n",
    "    except: answer = False # s가 문자열인데 int(s)로 하면 오류가 생기므로 이때 false 출력\n",
    "    return answer"
   ]
  },
  {
   "cell_type": "code",
   "execution_count": 8,
   "metadata": {},
   "outputs": [],
   "source": [
    "# 제대로 만들고 통과한 코드\n",
    "def solution(s):\n",
    "    try:\n",
    "        if type(int(s))==int and (len(s)==4 or len(s)==6): return True # 조건에 맞으면 True\n",
    "        else : return False # 아닌 경우는 모두 False\n",
    "    except: return False # s가 문자가 있는 문자열인 경우에도 False"
   ]
  }
 ],
 "metadata": {
  "kernelspec": {
   "display_name": "Python 3",
   "language": "python",
   "name": "python3"
  },
  "language_info": {
   "codemirror_mode": {
    "name": "ipython",
    "version": 3
   },
   "file_extension": ".py",
   "mimetype": "text/x-python",
   "name": "python",
   "nbconvert_exporter": "python",
   "pygments_lexer": "ipython3",
   "version": "3.8.5"
  }
 },
 "nbformat": 4,
 "nbformat_minor": 4
}
