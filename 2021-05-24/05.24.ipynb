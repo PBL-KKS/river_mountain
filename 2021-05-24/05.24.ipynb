{
 "cells": [
  {
   "cell_type": "code",
   "execution_count": 2,
   "metadata": {},
   "outputs": [],
   "source": [
    "# 문자열 다루기 기본\n",
    "# https://programmers.co.kr/learn/courses/30/lessons/12930?language=python3\n",
    "# 한번에 통과한 코드. 하지만 실수로 if가 아닌 if not을 썼는데 통과가 되어서 이상하다고 느꼈음\n",
    "def solution(s):\n",
    "    answer = False\n",
    "    try:\n",
    "        if not type(int(s))=='int' and (len(s)==4 or len(s)==6): answer = True\n",
    "    except: answer = False # s가 문자가 섞인 문자열인데 int(s)로 하면 오류가 생기므로 이때 false 출력\n",
    "    return answer"
   ]
  },
  {
   "cell_type": "markdown",
   "metadata": {},
   "source": [
    "'int(s)의 type이 'int'이고 s의 길이가 4나 6이 아니다'는 'int(s)의 type이 'int'가 아니다' 또는 's의 길이가 4가 아니고 6이 아니다'와 동일  \n",
    "  \n",
    "그런데 type형은 'int'라는 문자열이 아니라서 무조건 False가 출력되므로 'int(s)의 type이 'int'가 아니다'는 반드시 True  \n",
    "  \n",
    "즉 위의 if not문은 type(int(s))에서 오류가 출력되어 except문으로 넘어가지 않는 한 s의 길이가 어떻던 무조건 True...라고 생각했는데  "
   ]
  },
  {
   "cell_type": "markdown",
   "metadata": {},
   "source": [
    "if not 자체가 조건문으로 쓰여서 괄호를 생략해도 되는 형태가 아니었음  \n",
    "  \n",
    "즉 컴퓨터가 if not의 not만 따서 not type(int(s))=='int'을 먼저 해석한 것이었고 and 뒤의 조건을 함께 보게 된 것  \n",
    "  \n",
    "따라서 'int(s)의 type이 'int'가 아니고 s의 길이가 4나 6이다'라고 해석해 (앞의 조건은 try/except를 가르는 것 외의 의미가 없고) 뒤의 조건만 보고 판정하게 되므로 결과적으로 맞는 코드가 됨"
   ]
  },
  {
   "cell_type": "code",
   "execution_count": 3,
   "metadata": {},
   "outputs": [],
   "source": [
    "# 해석에 혼란이 오지 않도록 제대로 만들고 통과한 코드\n",
    "def solution(s):\n",
    "    try:\n",
    "        if type(int(s))==int and (len(s)==4 or len(s)==6): return True # 조건에 맞으면 True\n",
    "        else : return False # 아닌 경우는 모두 False\n",
    "    except: return False # s가 문자가 섞인 문자열인 경우에도 False"
   ]
  }
 ],
 "metadata": {
  "kernelspec": {
   "display_name": "Python 3",
   "language": "python",
   "name": "python3"
  },
  "language_info": {
   "codemirror_mode": {
    "name": "ipython",
    "version": 3
   },
   "file_extension": ".py",
   "mimetype": "text/x-python",
   "name": "python",
   "nbconvert_exporter": "python",
   "pygments_lexer": "ipython3",
   "version": "3.8.5"
  }
 },
 "nbformat": 4,
 "nbformat_minor": 4
}
