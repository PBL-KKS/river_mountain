{
 "cells": [
  {
   "cell_type": "code",
   "execution_count": 6,
   "metadata": {},
   "outputs": [
    {
     "name": "stdout",
     "output_type": "stream",
     "text": [
      " Mazatneunde Wae Teullyeoyo\n",
      "3\n"
     ]
    }
   ],
   "source": [
    "# 단어의 개수 세기\n",
    "# https://www.acmicpc.net/problem/1152\n",
    "sentence=input()\n",
    "words=sentence.split() \n",
    "# 처음부터 split 메소드를 쓰면 Jupyter Notebook에서는 실행되지만 일반적으로는 리스트가 정의되지 않았으므로 오류가 발생한다\n",
    "print(len(words))"
   ]
  },
  {
   "cell_type": "code",
   "execution_count": 20,
   "metadata": {},
   "outputs": [
    {
     "name": "stdout",
     "output_type": "stream",
     "text": [
      "734 893\n",
      "437\n"
     ]
    }
   ],
   "source": [
    "# 상수\n",
    "# https://www.acmicpc.net/problem/2908\n",
    "numbers=input()\n",
    "C=numbers.split()\n",
    "A=list(C[0])\n",
    "B=list(C[1])\n",
    "x=0\n",
    "y=0\n",
    "for i in range(len(A)):\n",
    "    A[i]=int(A[i])\n",
    "    x+=A[i]*10**i\n",
    "\n",
    "for j in range(len(B)):\n",
    "    B[j]=int(B[j])\n",
    "    y+=B[j]*10**j\n",
    "\n",
    "if x>=y : l=x\n",
    "else : l=y\n",
    "\n",
    "print(l)\n"
   ]
  }
 ],
 "metadata": {
  "kernelspec": {
   "display_name": "Python 3",
   "language": "python",
   "name": "python3"
  },
  "language_info": {
   "codemirror_mode": {
    "name": "ipython",
    "version": 3
   },
   "file_extension": ".py",
   "mimetype": "text/x-python",
   "name": "python",
   "nbconvert_exporter": "python",
   "pygments_lexer": "ipython3",
   "version": "3.8.5"
  }
 },
 "nbformat": 4,
 "nbformat_minor": 4
}
