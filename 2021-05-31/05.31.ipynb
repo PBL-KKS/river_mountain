{
 "cells": [
  {
   "cell_type": "code",
   "execution_count": 1,
   "metadata": {},
   "outputs": [],
   "source": [
    "# 시저 암호\n",
    "# https://programmers.co.kr/learn/courses/30/lessons/12926\n",
    "# 한번에 통과한 한줄코드\n",
    "def solution(s, n): return ''.join(map(lambda i: chr(65+(ord(i)+n-65)%26) if ord(i) in range(65,91) else chr(97+(ord(i)+n-97)%26) if ord(i) in range(97,123) else i, list(s)))"
   ]
  },
  {
   "cell_type": "code",
   "execution_count": 2,
   "metadata": {},
   "outputs": [],
   "source": [
    "# 설명을 위해 길게 늘인 코드\n",
    "def solution(s, n): \n",
    "    convert_alp=[] # 변경한 알파벳들을 저장하는 list\n",
    "    for i in list(s): # 문자열 s를 list 형식으로 변환하고 한글자씩 조건에 맞게 변형\n",
    "        if ord(i) in range(65,91) : # 문자가 대문자 알파벳이라면\n",
    "            convert_alp.append(chr(65+(ord(i)+n-65)%26)) # 출력값이 반드시 65 이상 91 미만이 되게 하고 chr()을 적용해 대문자 만든 뒤 convert_alp에 추가\n",
    "        elif ord(i) in range(97,123) : # 문자가 소문자 알파벳이라면\n",
    "            convert_alp.append(chr(97+(ord(i)+n-97)%26)) # 출력값이 반드시 97 이상 123 미만이 되게 하고 chr()을 적용해 소문자 만든 뒤 convert_alp에 추가\n",
    "        else : \n",
    "            convert_alp.append(i) # 문자가 공백이면 그대로 출력\n",
    "    return ''.join(convert_alp) # 변경한 문자들을 다시 붙이기"
   ]
  },
  {
   "cell_type": "code",
   "execution_count": null,
   "metadata": {},
   "outputs": [],
   "source": []
  }
 ],
 "metadata": {
  "kernelspec": {
   "display_name": "Python 3",
   "language": "python",
   "name": "python3"
  },
  "language_info": {
   "codemirror_mode": {
    "name": "ipython",
    "version": 3
   },
   "file_extension": ".py",
   "mimetype": "text/x-python",
   "name": "python",
   "nbconvert_exporter": "python",
   "pygments_lexer": "ipython3",
   "version": "3.8.5"
  }
 },
 "nbformat": 4,
 "nbformat_minor": 4
}
