{
 "cells": [
  {
   "cell_type": "code",
   "execution_count": 75,
   "metadata": {},
   "outputs": [
    {
     "data": {
      "text/plain": [
       "'TrY HeLlO WoRlD'"
      ]
     },
     "execution_count": 75,
     "metadata": {},
     "output_type": "execute_result"
    }
   ],
   "source": [
    "# 이상한 문자 만들기\n",
    "# https://programmers.co.kr/learn/courses/30/lessons/12930?language=python3\n",
    "# 한번에 통과한 코드. 하지만 L에 굳이 .upper() 메소드를 넣을 필요가 없다는 것을 뒤늦게 깨달음\n",
    "def solution(s):\n",
    "    L=s.upper().split(' ')\n",
    "    return ' '.join(''.join(list(map(lambda i: L[j][i].upper() if i%2==0 else L[j][i].lower(), range(len(L[j]))))) for j in range(len(L)))"
   ]
  },
  {
   "cell_type": "code",
   "execution_count": 116,
   "metadata": {},
   "outputs": [],
   "source": [
    "# 설명을 위해 일부러 길게 늘인 코드\n",
    "def solution(s):\n",
    "    L=s.upper().split(' ') # 문자열을 띄어쓰기 기준으로 분리해 list로 만듬. 앞에서도 말했지만 뒤에 .upper()를 쓸것이기 때문에 굳이 여기서 쓸 필요가 없었음\n",
    "    L1=list(map(lambda i: L[0][i].upper() if i%2==0 else L[0][i].lower(), range(len(L[0])))) # L의 첫번째 단어의 index가 짝수면 대문자로, 홀수면 소문자로 변환한 list 생성\n",
    "    L2=list(map(lambda i: L[1][i].upper() if i%2==0 else L[1][i].lower(), range(len(L[1])))) # L의 두번째 단어의 index가 짝수면 대문자로, 홀수면 소문자로 변환한 list 생성\n",
    "    L3=list(map(lambda i: L[2][i].upper() if i%2==0 else L[2][i].lower(), range(len(L[2])))) # L의 세번째 단어의 index가 짝수면 대문자로, 홀수면 소문자로 변환한 list 생성\n",
    "    L1=''.join(L1) # L1의 원소를 하나로 묶어 문자열로 구성\n",
    "    L2=''.join(L2) # L2의 원소를 하나로 묶어 문자열로 구성\n",
    "    L3=''.join(L3) # L3의 원소를 하나로 묶어 문자열로 구성\n",
    "    answer=' '.join([L1,L2,L3]) # 세 문자열을 띄어쓰기 넣고 하나로 묶어 문자열로 구성\n",
    "    return answer"
   ]
  },
  {
   "cell_type": "code",
   "execution_count": 121,
   "metadata": {},
   "outputs": [],
   "source": [
    "# 한줄로 줄인 코드\n",
    "# s.split(' ')의 단어 하나씩을 for문으로 돌려서 길이를 더 줄임\n",
    "def solution(s): return ' '.join(''.join(list(map(lambda i: j[i].upper() if i%2==0 else j[i].lower(), range(len(j))))) for j in s.split(' '))"
   ]
  }
 ],
 "metadata": {
  "kernelspec": {
   "display_name": "Python 3",
   "language": "python",
   "name": "python3"
  },
  "language_info": {
   "codemirror_mode": {
    "name": "ipython",
    "version": 3
   },
   "file_extension": ".py",
   "mimetype": "text/x-python",
   "name": "python",
   "nbconvert_exporter": "python",
   "pygments_lexer": "ipython3",
   "version": "3.8.5"
  }
 },
 "nbformat": 4,
 "nbformat_minor": 4
}
