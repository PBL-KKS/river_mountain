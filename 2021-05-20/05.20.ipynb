{
 "cells": [
  {
   "cell_type": "code",
   "execution_count": 48,
   "metadata": {},
   "outputs": [],
   "source": [
    "# 모의고사\n",
    "# https://programmers.co.kr/learn/courses/30/lessons/42840?language=python3\n",
    "# 프로그래머스 문제 특성상 def()로 시작할 것\n",
    "# 처음에 쓴 코드. 효율성 검사가 없어서 통과할 수는 있었으나 너무 무식한 방법이라는 생각이 들었음\n",
    "def solution(answers):\n",
    "    answer,first,second,third = [1,2,3],[1,2,3,4,5],[2,1,2,3,2,4,2,5],[3,3,1,1,2,2,4,4,5,5] # 결과를 알려줄 answer list를 미리 만들고 각 학생의 찍기 주기 list 생성 \n",
    "    a1,a2,a3=0,0,0 # 각 학생이 맞힌 횟수\n",
    "    for i in range(len(answers)): # index 탐색과 나머지 개념을 이용해 각 학생이 맞힐 때마다 횟수가 1 증가하도록 작성\n",
    "        if answers[i] == first[i%5] : a1+=1\n",
    "        if answers[i] == second[i%8] : a2+=1\n",
    "        if answers[i] == third[i%10] : a3+=1\n",
    "    # 이하는 각 학생 간 숫자 크기가 같은지 다른지에 대해 판별하는 조건문 코드\n",
    "    if a1==a2 :\n",
    "        if a1>a3 : return [answer[0],answer[1]]\n",
    "        elif a1<a3 : return [answer[2]]\n",
    "        else : return answer\n",
    "    elif a1==a3 : \n",
    "        if a1>a2 : return [answer[0],answer[2]]\n",
    "        elif a1<a3 : return [answer[1]]\n",
    "        else : return answer\n",
    "    elif a2==a3 : \n",
    "        if a2>a1 : return [answer[1],answer[2]]\n",
    "        elif a2<a1 : return [answer[0]]\n",
    "        else : return answer\n",
    "    else : return [answer[[a1,a2,a3].index(max(a1,a2,a3))]]"
   ]
  },
  {
   "cell_type": "code",
   "execution_count": 52,
   "metadata": {},
   "outputs": [],
   "source": [
    "# 다음은 같이 수업을 듣는 동기가 numpy와 enumerate로 작성한 코드\n",
    "def solution(answers):\n",
    "    import numpy as np\n",
    "    arr1 = np.array([1,2,3,4,5] * (len(answers)//5 + 1))\n",
    "    arr2 = np.array([2,1,2,3,2,4,2,5] * (len(answers)//8 + 1))\n",
    "    arr3 = np.array([3,3,1,1,2,2,4,4,5,5] * (len(answers)//10 + 1))\n",
    "    answer = [sum(np.equal(arr1[:len(answers)],answers)) # equal : NumPy 전용 메소드. index 순으로 두 배열의 원소가 서로 같은지를 Boolean 연산자 배열을 생성하는 메소드 \n",
    "            ,sum(np.equal(arr2[:len(answers)],answers))\n",
    "            ,sum(np.equal(arr3[:len(answers)],answers))] \n",
    "    return [i+1 for i, value in enumerate(answer) if value == max(answer)] # enumerate() : for 문 반복시 (반복 회수-1, list 원소)를 tuple 형식으로 출력하는 함수"
   ]
  },
  {
   "cell_type": "code",
   "execution_count": 79,
   "metadata": {},
   "outputs": [],
   "source": [
    "# 위 코드의 return문을 차용하고 새로 만든 코드. 이때 sum 함수에 comprehension문을 사용할 수 있다는 것을 깨달음\n",
    "def solution(answers):\n",
    "    answer = [sum(1 for i in range(len(answers)) if answers[i] == [1,2,3,4,5][i%5]),\n",
    "              sum(1 for i in range(len(answers)) if answers[i] == [2,1,2,3,2,4,2,5][i%8]),\n",
    "              sum(1 for i in range(len(answers)) if answers[i] == [3,3,1,1,2,2,4,4,5,5][i%10])]\n",
    "    return [j+1 for j, v in enumerate(answer) if v == max(answer)]"
   ]
  },
  {
   "cell_type": "code",
   "execution_count": 94,
   "metadata": {},
   "outputs": [],
   "source": [
    "# 더욱 줄인 코드. 전날 했던 list 내의 list 참조 방식을 활용\n",
    "def solution(answers):\n",
    "    check=[[1,2,3,4,5],[2,1,2,3,2,4,2,5],[3,3,1,1,2,2,4,4,5,5]] # 1번, 2번, 3번 학생의 찍기 순서 list를 성분으로 하는 list인 check 생성\n",
    "    answer = [sum(1 for i in range(len(answers)) if answers[i] == check[j][i%len(check[j])]) for j in range(len(check))] # 나머지 개념은 동일하게 쓰면서 학생 한명의 결과가 끝나면 j값을 하나 추가하는 식으로 다음 학생의 결과 계산\n",
    "    return [j+1 for j, v in enumerate(answer) if v == max(answer)]"
   ]
  }
 ],
 "metadata": {
  "kernelspec": {
   "display_name": "Python 3",
   "language": "python",
   "name": "python3"
  },
  "language_info": {
   "codemirror_mode": {
    "name": "ipython",
    "version": 3
   },
   "file_extension": ".py",
   "mimetype": "text/x-python",
   "name": "python",
   "nbconvert_exporter": "python",
   "pygments_lexer": "ipython3",
   "version": "3.8.5"
  }
 },
 "nbformat": 4,
 "nbformat_minor": 4
}
