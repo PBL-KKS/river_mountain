{
 "cells": [
  {
   "cell_type": "code",
   "execution_count": 14,
   "metadata": {},
   "outputs": [
    {
     "name": "stdout",
     "output_type": "stream",
     "text": [
      "1000\n",
      "144\n"
     ]
    }
   ],
   "source": [
    "# 한수\n",
    "# https://www.acmicpc.net/problem/1065\n",
    "\n",
    "N=int(input())\n",
    "count=0\n",
    "for N in range(1,N+1):\n",
    "    Nlist=list(str(N))\n",
    "    for j in range(0,len(Nlist)):\n",
    "        Nlist[j]=int(Nlist[j])\n",
    "    if N//100==0 : count+=1\n",
    "    else:\n",
    "        for i in range(1,len(Nlist)-1):\n",
    "            if Nlist[1]-Nlist[0] == Nlist[i+1]-Nlist[i]:\n",
    "                count+=1\n",
    "print(count)"
   ]
  },
  {
   "cell_type": "code",
   "execution_count": 10,
   "metadata": {},
   "outputs": [
    {
     "name": "stdout",
     "output_type": "stream",
     "text": [
      "z\n",
      "122\n"
     ]
    }
   ],
   "source": [
    "# 주어진 글자의 아스키 코드값 출력하기\n",
    "# https://www.acmicpc.net/problem/11654\n",
    "\n",
    "num_or_alp=input()\n",
    "print(ord(num_or_alp))\n",
    "# ord() : 문자열을 아스키 코드로 반환\n",
    "# chr() : 아스키 코드를 문자로 반환 : 아스키 코드를 문자로 반환"
   ]
  },
  {
   "cell_type": "code",
   "execution_count": 19,
   "metadata": {},
   "outputs": [
    {
     "name": "stdout",
     "output_type": "stream",
     "text": [
      "11\n",
      "10987654321\n",
      "46\n"
     ]
    }
   ],
   "source": [
    "# 주어진 숫자 N개의 합 구하기\n",
    "# https://www.acmicpc.net/problem/11720\n",
    "\n",
    "N=input()\n",
    "M=input()\n",
    "L=list(M)\n",
    "sums=0\n",
    "for i in range(0,int(N)):\n",
    "    L[i]=int(L[i])\n",
    "    sums+=L[i]\n",
    "print(sums)"
   ]
  },
  {
   "cell_type": "code",
   "execution_count": 21,
   "metadata": {},
   "outputs": [
    {
     "name": "stdout",
     "output_type": "stream",
     "text": [
      "baekjoon\n",
      "1 0 -1 -1 2 -1 -1 -1 -1 4 3 -1 -1 7 5 -1 -1 -1 -1 -1 -1 -1 -1 -1 -1 -1 "
     ]
    }
   ],
   "source": [
    "# 알파벳 찾기\n",
    "# https://www.acmicpc.net/problem/10809\n",
    "\n",
    "S=input()\n",
    "L=list(S)\n",
    "for i in 'abcdefghijklmnopqrstuvwxyz':\n",
    "    if i in L : print(L.index(i), end=' ')\n",
    "    else : print('-1', end=' ')"
   ]
  }
 ],
 "metadata": {
  "kernelspec": {
   "display_name": "Python 3",
   "language": "python",
   "name": "python3"
  },
  "language_info": {
   "codemirror_mode": {
    "name": "ipython",
    "version": 3
   },
   "file_extension": ".py",
   "mimetype": "text/x-python",
   "name": "python",
   "nbconvert_exporter": "python",
   "pygments_lexer": "ipython3",
   "version": "3.8.5"
  }
 },
 "nbformat": 4,
 "nbformat_minor": 4
}
