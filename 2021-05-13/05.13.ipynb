{
 "cells": [
  {
   "cell_type": "code",
   "execution_count": 152,
   "metadata": {},
   "outputs": [
    {
     "name": "stdout",
     "output_type": "stream",
     "text": [
      "4\n",
      "aba\n",
      "abab\n",
      "abcabc\n",
      "a\n",
      "1\n"
     ]
    }
   ],
   "source": [
    "# 그룹 단어 체커\n",
    "# https://www.acmicpc.net/problem/1316\n",
    "\n",
    "b=0 # 그룹 단어 개수\n",
    "N=int(input()) # 단어 개수 입력\n",
    "for i in range(N):\n",
    "    word=input() # 단어 입력\n",
    "    if len(word) == 1 or len(word) == 2 : a=0 # 길이가 1 또는 2인 단어는 반드시 그룹 단어\n",
    "    a=0 # 그룹단어 판별 변수\n",
    "    for i in range(len(word)-2):\n",
    "        for j in range(i+2,len(word)):\n",
    "#             print(word[i],'|',word[j])\n",
    "            if word[i]!=word[i+1] and word[i]==word[j] : # 어떤 철자가 바로 뒤 철자와 다르고 이후 철자와 같다면\n",
    "                a+=1 # 그룹단어가 아니므로 a에 1 추가\n",
    "            else : continue\n",
    "    if a>=1 :  # a가 1 이상이면 그룹 단어 아님\n",
    "#         print('그룹 단어 아님')\n",
    "        continue\n",
    "    else : # a가 0이면 그룹 단어\n",
    "        b+=1 # 따라서 b에 1 추가\n",
    "#         print('그룹 단어')\n",
    "print(b)\n",
    "\n",
    "# 이것으로 백준 문자열 문제 모두 해결완료"
   ]
  },
  {
   "cell_type": "code",
   "execution_count": 197,
   "metadata": {},
   "outputs": [
    {
     "name": "stdout",
     "output_type": "stream",
     "text": [
      "1\n"
     ]
    }
   ],
   "source": [
    "# 다음 코드는 같은반 학생의 다른 답안\n",
    "# 백준 제출 목적이 아니기 때문에 input()을 쓰진 않음\n",
    "\n",
    "lst = ['aba','abab','abcabc','a']\n",
    "cnt = 0\n",
    "check = []\n",
    "# print('lst :',lst)\n",
    "for item in lst :\n",
    "    for idx in range(len(item)) :\n",
    "#         print('check[:-1] :',check[:-1])\n",
    "        if item[idx] not in check[:-1] :\n",
    "            check.append(item[idx])\n",
    "#             print('check :',check)\n",
    "        else : \n",
    "            check = []\n",
    "            break\n",
    "    if len(check) != 0 or len(item) == 1 :\n",
    "        cnt+=1\n",
    "#     print('='*90)\n",
    "print(cnt)"
   ]
  },
  {
   "cell_type": "code",
   "execution_count": 199,
   "metadata": {},
   "outputs": [
    {
     "name": "stdout",
     "output_type": "stream",
     "text": [
      "1000 70 70\n"
     ]
    },
    {
     "data": {
      "text/plain": [
       "-1"
      ]
     },
     "execution_count": 199,
     "metadata": {},
     "output_type": "execute_result"
    }
   ],
   "source": [
    "# 손익분기점\n",
    "# https://www.acmicpc.net/problem/1712\n",
    "\n",
    "# 입력받은 숫자에 띄어쓰기 기준으로 나눠 리스트에 넣고 그 성분들을 문자형에서 정수형으로 변한\n",
    "a0,a1,a2=map(int, input().split())\n",
    "# 수식으로 표현하면 손익분기점은 고정비용에 (판매비용-가변비용)을 나눈 값\n",
    "# (판매비용-가변비용)이 0이면 -1, 그렇지 않아도 손익분기점이 음수이면 -1 출력, 손익분기점이 음이 아니면 1을 더하고 출력\n",
    "if a2-a1==0 : print(-1)\n",
    "elif a0//(a2-a1)<=0 : print(-1)\n",
    "else : print((a0//(a2-a1))+1)\n",
    "    \n",
    "# 다음 코드는 람다를 이용한 첫 답안. 주피터와 파이썬 cmd에서는 정상 작동하지만 백준에서는 틀렸다고 채점\n",
    "# numL=list(map(int,input().split()))\n",
    "# (lambda a0,a1,a2 : -1 if a2-a1==0 else -1 if a0//(a2-a1)<0 else (a0//(a2-a1))+1)(numL[0],numL[1],numL[2])"
   ]
  }
 ],
 "metadata": {
  "kernelspec": {
   "display_name": "Python 3",
   "language": "python",
   "name": "python3"
  },
  "language_info": {
   "codemirror_mode": {
    "name": "ipython",
    "version": 3
   },
   "file_extension": ".py",
   "mimetype": "text/x-python",
   "name": "python",
   "nbconvert_exporter": "python",
   "pygments_lexer": "ipython3",
   "version": "3.8.5"
  }
 },
 "nbformat": 4,
 "nbformat_minor": 4
}
