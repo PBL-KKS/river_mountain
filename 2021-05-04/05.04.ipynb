{
 "cells": [
  {
   "cell_type": "code",
   "execution_count": 40,
   "metadata": {
    "scrolled": true
   },
   "outputs": [
    {
     "name": "stdout",
     "output_type": "stream",
     "text": [
      "ljes=njak\n",
      "6\n"
     ]
    }
   ],
   "source": [
    "# 크로아티아 알파벳\n",
    "# https://www.acmicpc.net/problem/2941\n",
    "A=input()\n",
    "croat_alp=[\"dz=\",\"c=\",\"c-\",\"d-\",\"lj\",\"nj\",\"s=\",\"z=\"]\n",
    "for i in croat_alp :\n",
    "    if i in A : \n",
    "        A=A.replace(i, \"*\")\n",
    "print(len(A))"
   ]
  }
 ],
 "metadata": {
  "kernelspec": {
   "display_name": "Python 3",
   "language": "python",
   "name": "python3"
  },
  "language_info": {
   "codemirror_mode": {
    "name": "ipython",
    "version": 3
   },
   "file_extension": ".py",
   "mimetype": "text/x-python",
   "name": "python",
   "nbconvert_exporter": "python",
   "pygments_lexer": "ipython3",
   "version": "3.8.5"
  }
 },
 "nbformat": 4,
 "nbformat_minor": 4
}
