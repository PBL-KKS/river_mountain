{
 "cells": [
  {
   "cell_type": "code",
   "execution_count": 33,
   "metadata": {},
   "outputs": [],
   "source": [
    "# 문자열 내 마음대로 정렬하기\n",
    "# https://programmers.co.kr/learn/courses/30/lessons/12915?language=python3\n",
    "def solution(strings, n): return sorted(strings, key=lambda x:(x[n],x))"
   ]
  },
  {
   "cell_type": "markdown",
   "metadata": {},
   "source": [
    "> sorted(list,key) : 특정 key를 바탕으로 list의 성분을 우선 정렬  \n",
    "만일 key=(*args) 형태라면 앞의 성분을 기준으로 순서대로 정렬  \n",
    "\n",
    "<br>\n",
    "따라서 위 코드는 strings list를 x[n]을 기준으로 먼저 정렬하고,  \n",
    "만일 x[n]이 똑같다면 이후는 평소대로 정렬  "
   ]
  },
  {
   "cell_type": "code",
   "execution_count": 77,
   "metadata": {},
   "outputs": [
    {
     "name": "stdout",
     "output_type": "stream",
     "text": [
      "5 3\n",
      "*****\n",
      "*****\n",
      "*****\n",
      "\n"
     ]
    }
   ],
   "source": [
    "# 직사각형 별찍기\n",
    "# https://programmers.co.kr/learn/courses/30/lessons/12969\n",
    "a, b = map(int, input().strip().split(' '))\n",
    "for i in range(b) : print(\"*\"*a) # for문을 이용해 별을 여러 줄 출력"
   ]
  },
  {
   "cell_type": "code",
   "execution_count": null,
   "metadata": {},
   "outputs": [],
   "source": [
    "# 다른 사람의 풀이에 나온 또다른 방법\n",
    "# \\n이 띄어쓰기 기호라는 것을 이용한 식. for문 사용시보다 속도가 약간 빨라짐\n",
    "a, b = map(int, input().strip().split(' '))\n",
    "print((\"*\"*a+\"\\n\")*b)"
   ]
  }
 ],
 "metadata": {
  "kernelspec": {
   "display_name": "Python 3",
   "language": "python",
   "name": "python3"
  },
  "language_info": {
   "codemirror_mode": {
    "name": "ipython",
    "version": 3
   },
   "file_extension": ".py",
   "mimetype": "text/x-python",
   "name": "python",
   "nbconvert_exporter": "python",
   "pygments_lexer": "ipython3",
   "version": "3.8.5"
  }
 },
 "nbformat": 4,
 "nbformat_minor": 4
}
