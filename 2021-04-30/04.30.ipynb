{
 "cells": [
  {
   "cell_type": "code",
   "execution_count": 17,
   "metadata": {},
   "outputs": [
    {
     "name": "stdout",
     "output_type": "stream",
     "text": [
      "UNUCIC\n",
      "36\n"
     ]
    }
   ],
   "source": [
    "# 다이얼\n",
    "# https://www.acmicpc.net/problem/5622\n",
    "A=input()\n",
    "calltime = 0\n",
    "n2=[a2 for a2 in \"ABC\"] # 3초\n",
    "n3=[a3 for a3 in \"DEF\"] # 4초\n",
    "n4=[a4 for a4 in \"GHI\"] # 5초\n",
    "n5=[a5 for a5 in \"JKL\"] # 6초\n",
    "n6=[a6 for a6 in \"MNO\"] # 7초\n",
    "n7=[a7 for a7 in \"PQRS\"] # 8초\n",
    "n8=[a8 for a8 in \"TUV\"] # 9초\n",
    "n9=[a9 for a9 in \"WXYZ\"] # 10초\n",
    "d_alpbt=[n2,n3,n4,n5,n6,n7,n8,n9]\n",
    "\n",
    "for i in A :\n",
    "    for j in d_alpbt:\n",
    "        if i in j : \n",
    "            calltime+=d_alpbt.index(j)+3\n",
    "print(calltime)"
   ]
  }
 ],
 "metadata": {
  "kernelspec": {
   "display_name": "Python 3",
   "language": "python",
   "name": "python3"
  },
  "language_info": {
   "codemirror_mode": {
    "name": "ipython",
    "version": 3
   },
   "file_extension": ".py",
   "mimetype": "text/x-python",
   "name": "python",
   "nbconvert_exporter": "python",
   "pygments_lexer": "ipython3",
   "version": "3.8.5"
  }
 },
 "nbformat": 4,
 "nbformat_minor": 4
}
