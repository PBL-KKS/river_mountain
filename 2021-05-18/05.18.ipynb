{
 "cells": [
  {
   "cell_type": "code",
   "execution_count": 268,
   "metadata": {},
   "outputs": [],
   "source": [
    "# 소수 찾기\n",
    "# https://programmers.co.kr/learn/courses/30/lessons/12921\n",
    "# 프로그래머스 문제 특성상 def()로 시작할 것\n",
    "# 처음에 쓴 코드\n",
    "import math as m # 제곱근 함수를 쓰기 위해 math 모듈 불러오기\n",
    "def solution(n):\n",
    "    prime=[i for i in range(2,n+1)] # 1을 제외한 모든 자연수 출력\n",
    "    num=n-1 # 소수 개수\n",
    "    # print(prime)\n",
    "    for i in range(2,int(m.sqrt(n))+1): # 2부터 n까지 모든 수에 대해 찾을 필요 없이 제곱근만큼 시행하면 됨\n",
    "        for j in range(2,(n//i)+1):  # i*j<=n이기만 하면 되므로 j는 2부터 n/2의 몫까지\n",
    "            if i*j in prime: \n",
    "                prime[i*j-2]=0 # 합성수에 해당하는 값을 0으로 변환\n",
    "                num-=1 # 변환할 때마다 num에서 1씩 차감\n",
    "    return num # n-1개의 자연수 - 합성수 개수\n",
    "# 에라토스테네스의 체 개념을 사용했고 틀리진 않았으나 효율성 검토에서 막힘\n",
    "# 소수 검사할 때 n제곱근까지만 범위를 정해도 되는 이유\n",
    "# http://sprexatura.blogspot.com/2016/05/n-n-square-root-of-n.html"
   ]
  },
  {
   "cell_type": "code",
   "execution_count": 271,
   "metadata": {
    "scrolled": true
   },
   "outputs": [],
   "source": [
    "# math 모듈과 set을 사용해 통과한 코드\n",
    "# 처음부터 소수를 찾을 필요가 없다. 합성수를 찾고 전체에서 합성수와 1(소수도 합성수도 아님)을 빼면 훨씬 빨리 끝남\n",
    "# 합성수 찾을 때 중복되는 수 처리를 쉽게 하기 위해 set을 이용\n",
    "import math as m\n",
    "def solution(n):\n",
    "    comp={i*j for i in range(2,int(m.sqrt(n))+1) for j in range(2,(n//i)+1)} # 합성수 set\n",
    "    return n-1-len(comp)"
   ]
  },
  {
   "cell_type": "code",
   "execution_count": 270,
   "metadata": {},
   "outputs": [],
   "source": [
    "# 극단적으로 줄이면 이렇게 쓸수 있음\n",
    "# math 모듈 쓰지 않았을 때 제곱근이 n**0.5임을 이용\n",
    "def solution(n): return n-1-len({i*j for i in range(2,int(n**0.5)+1) for j in range(2,(n//i)+1)})"
   ]
  }
 ],
 "metadata": {
  "kernelspec": {
   "display_name": "Python 3",
   "language": "python",
   "name": "python3"
  },
  "language_info": {
   "codemirror_mode": {
    "name": "ipython",
    "version": 3
   },
   "file_extension": ".py",
   "mimetype": "text/x-python",
   "name": "python",
   "nbconvert_exporter": "python",
   "pygments_lexer": "ipython3",
   "version": "3.8.5"
  }
 },
 "nbformat": 4,
 "nbformat_minor": 4
}
